{
 "cells": [
  {
   "cell_type": "code",
   "execution_count": 1,
   "id": "ba257108-b861-43b9-9a15-8bedd192e180",
   "metadata": {},
   "outputs": [],
   "source": [
    "import numpy as np\n",
    "import pandas as pd"
   ]
  },
  {
   "cell_type": "code",
   "execution_count": 3,
   "id": "7bf1c8ee-065e-4113-a92a-32c74e58e7c4",
   "metadata": {},
   "outputs": [],
   "source": [
    "list1 = [1,2,3,4]"
   ]
  },
  {
   "cell_type": "code",
   "execution_count": 5,
   "id": "13524776-8623-4326-91f9-276f5fb1ec2e",
   "metadata": {},
   "outputs": [
    {
     "name": "stdout",
     "output_type": "stream",
     "text": [
      "[1 2 3 4]\n"
     ]
    }
   ],
   "source": [
    "array1 = np.array(list1)\n",
    "print(array1)"
   ]
  },
  {
   "cell_type": "code",
   "execution_count": 7,
   "id": "e789b7c5-9d4d-40d1-9e1d-0652a86eec27",
   "metadata": {},
   "outputs": [
    {
     "name": "stdout",
     "output_type": "stream",
     "text": [
      "[[1 2 3]\n",
      " [4 5 6]]\n"
     ]
    }
   ],
   "source": [
    "list2 = [[1,2,3],[4,5,6]]\n",
    "array2 = np.array(list2)\n",
    "print(array2)"
   ]
  },
  {
   "cell_type": "code",
   "execution_count": 9,
   "id": "1dbb311f-aca1-4395-8f21-49718f267fb3",
   "metadata": {},
   "outputs": [
    {
     "name": "stdout",
     "output_type": "stream",
     "text": [
      "[3 6 1 4]\n"
     ]
    }
   ],
   "source": [
    "toyPrices = np.array([5,8,3,6])\n",
    "print(toyPrices - 2)"
   ]
  },
  {
   "cell_type": "code",
   "execution_count": 11,
   "id": "b6c28138-14ef-408f-bc90-ce0d95e532d9",
   "metadata": {},
   "outputs": [
    {
     "name": "stdout",
     "output_type": "stream",
     "text": [
      "[3, 6, 1, 4]\n"
     ]
    }
   ],
   "source": [
    "toyPrices = [5,8,3,6]\n",
    "# print(toyPrices - 2) -- Not possible. Causes an error\n",
    "for i in range(len(toyPrices)):\n",
    "    toyPrices[i] -= 2\n",
    "print(toyPrices)"
   ]
  },
  {
   "cell_type": "code",
   "execution_count": 13,
   "id": "190f1541-4469-4070-bc94-001d697d3874",
   "metadata": {},
   "outputs": [
    {
     "name": "stdout",
     "output_type": "stream",
     "text": [
      "0    13\n",
      "1    25\n",
      "2    19\n",
      "dtype: int64\n"
     ]
    }
   ],
   "source": [
    "# Create a Series using a NumPy array of ages with the default numerical indices\n",
    "ages = np.array([13,25,19])\n",
    "series1 = pd.Series(ages)\n",
    "print(series1)"
   ]
  },
  {
   "cell_type": "code",
   "execution_count": 15,
   "id": "173ab6da-204a-45aa-b09b-5c7507d8ffc0",
   "metadata": {},
   "outputs": [
    {
     "name": "stdout",
     "output_type": "stream",
     "text": [
      "Emma      13\n",
      "Swetha    25\n",
      "Serajh    19\n",
      "dtype: int64\n"
     ]
    }
   ],
   "source": [
    "# Create a Series using a NumPy array of ages but customize the indices to be the names that correspond to each age\n",
    "ages = np.array([13,25,19])\n",
    "series1 = pd.Series(ages,index=['Emma', 'Swetha', 'Serajh'])\n",
    "print(series1)"
   ]
  },
  {
   "cell_type": "code",
   "execution_count": 17,
   "id": "4a6a0265-0c37-44e9-9843-ecdcb3b077a4",
   "metadata": {},
   "outputs": [],
   "source": [
    "dataf = pd.DataFrame([\n",
    "    ['John Smith','123 Main St',34],\n",
    "    ['Jane Doe', '456 Maple Ave',28],\n",
    "    ['Joe Schmo', '789 Broadway',51]\n",
    "    ],\n",
    "    columns=['name','address','age'])"
   ]
  },
  {
   "cell_type": "code",
   "execution_count": 19,
   "id": "e9a6869a-3536-44c2-bcb4-10d5c9eca8e9",
   "metadata": {},
   "outputs": [
    {
     "name": "stdout",
     "output_type": "stream",
     "text": [
      "         name        address  age\n",
      "0  John Smith    123 Main St   34\n",
      "1    Jane Doe  456 Maple Ave   28\n",
      "2   Joe Schmo   789 Broadway   51\n"
     ]
    }
   ],
   "source": [
    "print(dataf)"
   ]
  },
  {
   "cell_type": "code",
   "execution_count": 23,
   "id": "1a90ae6f-fc24-4e95-800b-a1e3e6c8b41d",
   "metadata": {},
   "outputs": [
    {
     "data": {
      "text/html": [
       "<div>\n",
       "<style scoped>\n",
       "    .dataframe tbody tr th:only-of-type {\n",
       "        vertical-align: middle;\n",
       "    }\n",
       "\n",
       "    .dataframe tbody tr th {\n",
       "        vertical-align: top;\n",
       "    }\n",
       "\n",
       "    .dataframe thead th {\n",
       "        text-align: right;\n",
       "    }\n",
       "</style>\n",
       "<table border=\"1\" class=\"dataframe\">\n",
       "  <thead>\n",
       "    <tr style=\"text-align: right;\">\n",
       "      <th></th>\n",
       "      <th>address</th>\n",
       "      <th>age</th>\n",
       "    </tr>\n",
       "    <tr>\n",
       "      <th>name</th>\n",
       "      <th></th>\n",
       "      <th></th>\n",
       "    </tr>\n",
       "  </thead>\n",
       "  <tbody>\n",
       "    <tr>\n",
       "      <th>John Smith</th>\n",
       "      <td>123 Main St</td>\n",
       "      <td>34</td>\n",
       "    </tr>\n",
       "    <tr>\n",
       "      <th>Jane Doe</th>\n",
       "      <td>456 Maple Ave</td>\n",
       "      <td>28</td>\n",
       "    </tr>\n",
       "    <tr>\n",
       "      <th>Joe Schmo</th>\n",
       "      <td>789 Broadway</td>\n",
       "      <td>51</td>\n",
       "    </tr>\n",
       "  </tbody>\n",
       "</table>\n",
       "</div>"
      ],
      "text/plain": [
       "                  address  age\n",
       "name                          \n",
       "John Smith    123 Main St   34\n",
       "Jane Doe    456 Maple Ave   28\n",
       "Joe Schmo    789 Broadway   51"
      ]
     },
     "execution_count": 23,
     "metadata": {},
     "output_type": "execute_result"
    }
   ],
   "source": [
    "dataf.set_index('name')"
   ]
  },
  {
   "cell_type": "code",
   "execution_count": null,
   "id": "d8b7bc8f-b154-4133-b343-65eb1d22dd06",
   "metadata": {},
   "outputs": [],
   "source": []
  }
 ],
 "metadata": {
  "kernelspec": {
   "display_name": "Python 3 (ipykernel)",
   "language": "python",
   "name": "python3"
  },
  "language_info": {
   "codemirror_mode": {
    "name": "ipython",
    "version": 3
   },
   "file_extension": ".py",
   "mimetype": "text/x-python",
   "name": "python",
   "nbconvert_exporter": "python",
   "pygments_lexer": "ipython3",
   "version": "3.11.7"
  }
 },
 "nbformat": 4,
 "nbformat_minor": 5
}
